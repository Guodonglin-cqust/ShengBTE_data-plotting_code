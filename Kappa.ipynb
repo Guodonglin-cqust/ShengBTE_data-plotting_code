{
 "cells": [
  {
   "cell_type": "code",
   "execution_count": null,
   "id": "acc45e8f-d898-44b5-a3ec-b78385cd00d9",
   "metadata": {},
   "outputs": [],
   "source": [
    "import numpy as np\n",
    "import matplotlib.pyplot as plt"
   ]
  },
  {
   "cell_type": "code",
   "execution_count": null,
   "id": "b0944b26-703e-470f-8aa6-eb32dc16bdf5",
   "metadata": {},
   "outputs": [],
   "source": [
    "f=np.loadtxt('BTE.KappaTensorVsT_RTA')\n",
    "#f.size\n",
    "#f.shape\n",
    "#f"
   ]
  },
  {
   "cell_type": "code",
   "execution_count": null,
   "id": "a158bfaf-8645-4223-a3f0-30dbd5659028",
   "metadata": {},
   "outputs": [],
   "source": [
    "print(f.size)\n",
    "print(f.shape)\n",
    "#print(f)"
   ]
  },
  {
   "cell_type": "code",
   "execution_count": null,
   "id": "fd43ff35-c049-4115-88fc-1d805368beac",
   "metadata": {},
   "outputs": [],
   "source": [
    "plt.figure(figsize=(8,6))\n",
    "#plt.grid()\n",
    "plt.plot(f[1:,0],f[1:,1],\"-o\",ms=6,label='Lattice thermal conductivity')\n",
    "plt.xlabel('Temperature (K)',size=16)\n",
    "plt.ylabel('$\\kappa_l$ (Wm$^{-1}$K$^{-1}$)',size=16)\n",
    "plt.legend(loc=1,fontsize=12)\n",
    "#plt.show()\n",
    "plt.savefig('Kappa-1.png',dpi=1000)"
   ]
  },
  {
   "cell_type": "code",
   "execution_count": null,
   "id": "815fd693-5b4e-496b-9f51-c9ff72c05068",
   "metadata": {},
   "outputs": [],
   "source": []
  }
 ],
 "metadata": {
  "kernelspec": {
   "display_name": "Python 3 (ipykernel)",
   "language": "python",
   "name": "python3"
  },
  "language_info": {
   "codemirror_mode": {
    "name": "ipython",
    "version": 3
   },
   "file_extension": ".py",
   "mimetype": "text/x-python",
   "name": "python",
   "nbconvert_exporter": "python",
   "pygments_lexer": "ipython3",
   "version": "3.7.9"
  }
 },
 "nbformat": 4,
 "nbformat_minor": 5
}
